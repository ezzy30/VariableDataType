{
 "cells": [
  {
   "cell_type": "markdown",
   "id": "4af93e1d",
   "metadata": {},
   "source": [
    "<h1>Belajar Variabel Tipe Data <h1><hr>\n",
    "    Tipe Data Di Python Yaitu int <b> interger, Float, Boolean, String, Complex</b> \n",
    " "
   ]
  },
  {
   "cell_type": "code",
   "execution_count": 4,
   "id": "32098abf",
   "metadata": {},
   "outputs": [
    {
     "name": "stdout",
     "output_type": "stream",
     "text": [
      "100\n",
      "<class 'int'>\n"
     ]
    }
   ],
   "source": [
    "data_integer = 100\n",
    "data_integer\n",
    "print(data_integer)\n",
    "print(type(data_integer))"
   ]
  },
  {
   "cell_type": "code",
   "execution_count": 6,
   "id": "e6c19edb",
   "metadata": {},
   "outputs": [
    {
     "name": "stdout",
     "output_type": "stream",
     "text": [
      "10.5\n",
      "<class 'float'>\n"
     ]
    }
   ],
   "source": [
    "data_float = 10.5\n",
    "print(data_float)\n",
    "print(type(data_float))"
   ]
  },
  {
   "cell_type": "code",
   "execution_count": 12,
   "id": "dfb0ca22",
   "metadata": {},
   "outputs": [
    {
     "name": "stdout",
     "output_type": "stream",
     "text": [
      "True\n",
      "<class 'bool'>\n"
     ]
    }
   ],
   "source": [
    "data_boolean = True or False\n",
    "data_boolean\n",
    "print(data_boolean)\n",
    "print(type(data_boolean))"
   ]
  },
  {
   "cell_type": "code",
   "execution_count": 17,
   "id": "bb963ec3",
   "metadata": {},
   "outputs": [
    {
     "name": "stdout",
     "output_type": "stream",
     "text": [
      "1\n",
      "<class 'str'>\n"
     ]
    }
   ],
   "source": [
    "data_string = \"1\"\n",
    "data_string\n",
    "print(data_string)\n",
    "print(type(data_string))"
   ]
  },
  {
   "cell_type": "code",
   "execution_count": 20,
   "id": "6a40c9f4",
   "metadata": {},
   "outputs": [
    {
     "name": "stdout",
     "output_type": "stream",
     "text": [
      "(5+6j)\n",
      "<class 'complex'>\n"
     ]
    }
   ],
   "source": [
    "data_complex = complex(5,6)\n",
    "print(data_complex)\n",
    "print(type(data_complex))\n"
   ]
  },
  {
   "cell_type": "markdown",
   "id": "f961e43c",
   "metadata": {},
   "source": [
    "<h2>Casting</h2><hr>\n",
    "<b><font color=\"blue\">Casting</font></b> adalah proses melakukan konversi tipe data <br>\n",
    "<ol>\n",
    "    <li>Sintak Cesting menggunakan (tipe_data)</li>\n",
    "    <li>Casting dapat dilakukan untuk semua tipe data</li>\n",
    "    \n",
    " </ol>"
   ]
  },
  {
   "cell_type": "code",
   "execution_count": 22,
   "id": "5f2f4671",
   "metadata": {},
   "outputs": [
    {
     "name": "stdout",
     "output_type": "stream",
     "text": [
      "100.0\n",
      "100.0\n",
      "True\n",
      "<class 'float'>\n",
      "<class 'str'>\n",
      "<class 'bool'>\n"
     ]
    }
   ],
   "source": [
    "int_to_string = str(data_integer)\n",
    "int_to_float =float(data_integer)\n",
    "int_to_bool = bool(data_integer)\n",
    "\n",
    "print(int_to_float)\n",
    "print(int_to_float)\n",
    "print(int_to_bool)\n",
    "    \n",
    "print(type(int_to_float))\n",
    "print(type(int_to_string))\n",
    "print(type(int_to_bool))"
   ]
  },
  {
   "cell_type": "code",
   "execution_count": 34,
   "id": "6cb5902d",
   "metadata": {},
   "outputs": [
    {
     "name": "stdout",
     "output_type": "stream",
     "text": [
      "1\n",
      "1.0\n",
      "True\n",
      "<class 'int'>\n",
      "<class 'int'>\n",
      "<class 'bool'>\n"
     ]
    }
   ],
   "source": [
    "str_to_int = int(data_string)\n",
    "str_to_str = float(data_string)\n",
    "str_to_bool = bool(data_string)\n",
    "            \n",
    "print(str_to_int)\n",
    "print(str_to_str)\n",
    "print(str_to_bool)\n",
    "\n",
    "print(type(str_to_int))\n",
    "print(type(str_to_int))\n",
    "print(type(str_to_bool))\n"
   ]
  },
  {
   "cell_type": "code",
   "execution_count": 36,
   "id": "c43b103a",
   "metadata": {},
   "outputs": [
    {
     "name": "stdout",
     "output_type": "stream",
     "text": [
      "10\n",
      "10.5\n",
      "True\n"
     ]
    }
   ],
   "source": [
    "float_to_int = int(data_float)\n",
    "float_to_str = str(data_float)\n",
    "float_to_float = float(data_float)\n",
    "            \n",
    "print(float_to_int)\n",
    "print(float_to_str)\n",
    "print(float_to_bool)"
   ]
  },
  {
   "cell_type": "code",
   "execution_count": 39,
   "id": "2b8ec5f7",
   "metadata": {},
   "outputs": [
    {
     "name": "stdout",
     "output_type": "stream",
     "text": [
      "1\n",
      "True\n",
      "1.0\n"
     ]
    }
   ],
   "source": [
    "bool_to_int = int(data_boolean)\n",
    "bool_to_str = str(data_boolean)\n",
    "bool_to_float = float(data_boolean)\n",
    "            \n",
    "print(bool_to_int)\n",
    "print(bool_to_str)\n",
    "print(bool_to_float)"
   ]
  }
 ],
 "metadata": {
  "kernelspec": {
   "display_name": "Python 3 (ipykernel)",
   "language": "python",
   "name": "python3"
  },
  "language_info": {
   "codemirror_mode": {
    "name": "ipython",
    "version": 3
   },
   "file_extension": ".py",
   "mimetype": "text/x-python",
   "name": "python",
   "nbconvert_exporter": "python",
   "pygments_lexer": "ipython3",
   "version": "3.9.12"
  }
 },
 "nbformat": 4,
 "nbformat_minor": 5
}
